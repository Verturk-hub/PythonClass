{
 "cells": [
  {
   "cell_type": "code",
   "execution_count": 1,
   "source": [
    "class Student:\r\n",
    "  pass\r\n",
    "\r\n",
    "student1 = Student()\r\n",
    "student1.name='Hazel'\r\n",
    "student1.age=38\r\n",
    "\r\n",
    "print(student1.name)\r\n",
    "print(student1.age)"
   ],
   "outputs": [
    {
     "output_type": "stream",
     "name": "stdout",
     "text": [
      "Hazel\n",
      "38\n"
     ]
    }
   ],
   "metadata": {}
  },
  {
   "cell_type": "code",
   "execution_count": 4,
   "source": [
    "class Student:\r\n",
    "  def older(self):\r\n",
    "    if self.age>35:\r\n",
    "      return True\r\n",
    "    else:\r\n",
    "        return False\r\n",
    "\r\n",
    "student1 = Student()\r\n",
    "student1.name='Hazel'\r\n",
    "student1.age=28\r\n",
    "\r\n",
    "old=student1.older()\r\n",
    "print(old)"
   ],
   "outputs": [
    {
     "output_type": "stream",
     "name": "stdout",
     "text": [
      "False\n"
     ]
    }
   ],
   "metadata": {}
  },
  {
   "cell_type": "code",
   "execution_count": 11,
   "source": [
    "class Student:\r\n",
    "  def older(self):\r\n",
    "    if self.age>35:\r\n",
    "      return True\r\n",
    "    else:\r\n",
    "      return False\r\n",
    "\r\n",
    "student1 = Student()\r\n",
    "student1.name='Hazel'\r\n",
    "student1.age=28\r\n",
    "\r\n",
    "old = student1.older()\r\n",
    "print(old)\r\n",
    "\r\n",
    "student2=Student()\r\n",
    "student2.name='Bilal'\r\n",
    "student2.age=40\r\n",
    "\r\n",
    "old=student2.older()\r\n",
    "\r\n",
    "print(old)"
   ],
   "outputs": [
    {
     "output_type": "stream",
     "name": "stdout",
     "text": [
      "False\n",
      "True\n"
     ]
    }
   ],
   "metadata": {}
  },
  {
   "cell_type": "code",
   "execution_count": 17,
   "source": [
    "class Student:\r\n",
    "  def older(self):\r\n",
    "    if self.age>35:\r\n",
    "      return True\r\n",
    "    else:\r\n",
    "      return False\r\n",
    "\r\n",
    "  def __init__(self,name,age):\r\n",
    "    self.name = name\r\n",
    "    self.age = age\r\n",
    "\r\n",
    "student1=Student('Hazel',28)\r\n",
    "student2=Student('Bilal',40)\r\n",
    "\r\n",
    "old=student1.older()\r\n",
    "print(old)\r\n",
    "old=student2.older()\r\n",
    "print(old)\r\n"
   ],
   "outputs": [
    {
     "output_type": "stream",
     "name": "stdout",
     "text": [
      "False\n",
      "True\n"
     ]
    }
   ],
   "metadata": {}
  }
 ],
 "metadata": {
  "orig_nbformat": 4,
  "language_info": {
   "name": "python",
   "version": "3.8.3",
   "mimetype": "text/x-python",
   "codemirror_mode": {
    "name": "ipython",
    "version": 3
   },
   "pygments_lexer": "ipython3",
   "nbconvert_exporter": "python",
   "file_extension": ".py"
  },
  "kernelspec": {
   "name": "python3",
   "display_name": "Python 3.8.3 64-bit ('base': conda)"
  },
  "interpreter": {
   "hash": "46182d5f787c7496ac3d2ccd0c5d8bf41bffd3ac5e5e93146af501a7f382c533"
  }
 },
 "nbformat": 4,
 "nbformat_minor": 2
}